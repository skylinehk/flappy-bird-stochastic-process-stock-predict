{
 "cells": [
  {
   "cell_type": "code",
   "execution_count": 32,
   "metadata": {},
   "outputs": [
    {
     "data": {
      "text/plain": [
       "<contextlib.ExitStack at 0x260f361c820>"
      ]
     },
     "execution_count": 32,
     "metadata": {},
     "output_type": "execute_result"
    }
   ],
   "source": [
    "# PYTORCH IMPORTS\n",
    "import torch\n",
    "import torch.nn as nn\n",
    "import torch.nn.functional as F\n",
    "import torch.optim as optim\n",
    "\n",
    "# OTHER USEFUL PYTHON MODULES AND PACKAGES\n",
    "import numpy as np\n",
    "import matplotlib\n",
    "import matplotlib.pyplot as plt\n",
    "import gymnasium as gym\n",
    "import imageio\n",
    "import flappy_bird_gym\n",
    "\n",
    "# IMPORT gym\n",
    "import gym\n",
    "from gym import spaces\n",
    "from gym.utils import seeding\n",
    "\n",
    "# BASE PYTHON IMPORTS\n",
    "\n",
    "import random\n",
    "from collections import deque, namedtuple\n",
    "from itertools import count\n",
    "import time\n",
    "from pathlib import Path\n",
    "\n",
    "\n",
    "# SET UP MATPLOTLIB\n",
    "is_ipython = 'inline' in matplotlib.get_backend()\n",
    "if is_ipython:\n",
    "    from IPython import display\n",
    "\n",
    "plt.ion()"
   ]
  },
  {
   "cell_type": "code",
   "execution_count": 2,
   "metadata": {},
   "outputs": [],
   "source": [
    "# run this cell if matplotlib causes python kernel dead\n",
    "import os\n",
    "os.environ[\"KMP_DUPLICATE_LIB_OK\"]=\"TRUE\""
   ]
  },
  {
   "cell_type": "code",
   "execution_count": null,
   "metadata": {},
   "outputs": [],
   "source": [
    "# # check your environment\n",
    "# import sys\n",
    "# print(sys.executable)\n",
    "# print(torch.__file__) \n",
    "# print(torch.cuda.is_available())\n",
    "# from torch.utils import collect_env\n",
    "# print(collect_env.main())"
   ]
  },
  {
   "attachments": {},
   "cell_type": "markdown",
   "metadata": {},
   "source": [
    "## Define A New Environment to Simulate The Stock Trading\n",
    "\n",
    "To position the bird on the rightmost side of the screen, you can set the bird's x-coordinate to a fixed value that corresponds to the rightmost edge of the screen. The y-coordinate can be randomized within a range to simulate the starting price of the stock.\n",
    "\n",
    "To generate the ideal trajectory, you can sample from a normal distribution to simulate the stock price movements. The mean and standard deviation of the distribution can be adjusted to simulate different market conditions. You can generate a new value at each time step and use it as the position of the pipes in the original Flappy Bird game.\n",
    "\n",
    "To implement the actions, you can define three actions - 'up', 'down', and 'keep' - that correspond to buying, selling, and holding the stock, respectively. These actions will change the bird's y-coordinate, which corresponds to the stock price.\n",
    "\n",
    "To calculate the reward, you can compare the bird's y-coordinate to the ideal trajectory at each time step. If the bird is higher than the trajectory, the reward can be positive, and if it's lower, the reward can be negative. The value of the reward can be determined by the distance between the bird's y-coordinate and the trajectory.\n",
    "\n",
    "To set the initial reward to 100 and the stop condition to when the reward is below 0 or after 1000 trajectory points, you can initialize the reward to 100 at the start of the game and decrement it by the absolute value of the reward at each time step. The game should stop if the reward falls below 0 or if the game reaches 1000 time steps."
   ]
  },
  {
   "cell_type": "code",
   "execution_count": 91,
   "metadata": {},
   "outputs": [
    {
     "name": "stdout",
     "output_type": "stream",
     "text": [
      "Remove StockBird-v0 from registry\n"
     ]
    }
   ],
   "source": [
    "# remove the old env\n",
    "env_dict = gym.envs.registration.registry.env_specs.copy()\n",
    "\n",
    "\n",
    "for env in env_dict:\n",
    "    if 'StockBird-v0' in env:\n",
    "        print(\"Remove {} from registry\".format(env))\n",
    "        del gym.envs.registration.registry.env_specs[env]"
   ]
  },
  {
   "cell_type": "code",
   "execution_count": 92,
   "metadata": {},
   "outputs": [],
   "source": [
    "import stock_bird_env\n",
    "\n",
    "# Register the environment with gym.make()\n",
    "gym.envs.registration.register(\n",
    "    id='StockBird-v0',\n",
    "    entry_point='stock_bird_env:StockBirdEnv',\n",
    ")\n",
    "\n",
    "# Create an instance of the environment and reset it\n",
    "env = gym.make('StockBird-v0')"
   ]
  },
  {
   "cell_type": "code",
   "execution_count": 87,
   "metadata": {},
   "outputs": [
    {
     "name": "stdout",
     "output_type": "stream",
     "text": [
      "# Observation Features: 1 \n",
      "\n",
      "# Possible Actions: 3 \n",
      "\n",
      "Initial Observation: \n",
      "\n",
      "[0] \n",
      "\n",
      "Observation array is of type: <class 'numpy.ndarray'>\n"
     ]
    }
   ],
   "source": [
    "# test the new env\n",
    "env = StockBirdEnv()\n",
    "state = env.reset()\n",
    "\n",
    "# Convert state to 1D numpy array\n",
    "state = np.array(state).flatten()\n",
    "\n",
    "# Print the number of observation features\n",
    "print('# Observation Features:', len(state), '\\n')\n",
    "\n",
    "# Print the number of possible actions\n",
    "print('# Possible Actions:', env.action_space.n, '\\n')\n",
    "\n",
    "# Print the initial observation\n",
    "print('Initial Observation:', '\\n')\n",
    "print(state, '\\n')\n",
    "\n",
    "# Print the type of the observation array\n",
    "print('Observation array is of type:', type(state))\n",
    "\n",
    "env.close()"
   ]
  },
  {
   "cell_type": "code",
   "execution_count": 93,
   "metadata": {},
   "outputs": [
    {
     "ename": "AttributeError",
     "evalue": "'StockBirdEnv' object has no attribute 'state'",
     "output_type": "error",
     "traceback": [
      "\u001b[1;31m---------------------------------------------------------------------------\u001b[0m",
      "\u001b[1;31mAttributeError\u001b[0m                            Traceback (most recent call last)",
      "Cell \u001b[1;32mIn[93], line 6\u001b[0m\n\u001b[0;32m      4\u001b[0m done \u001b[39m=\u001b[39m \u001b[39mFalse\u001b[39;00m\n\u001b[0;32m      5\u001b[0m \u001b[39mwhile\u001b[39;00m \u001b[39mnot\u001b[39;00m done:\n\u001b[1;32m----> 6\u001b[0m     env\u001b[39m.\u001b[39;49mrender()\n\u001b[0;32m      8\u001b[0m     \u001b[39m# Get user input from keyboard\u001b[39;00m\n\u001b[0;32m      9\u001b[0m     action \u001b[39m=\u001b[39m \u001b[39mNone\u001b[39;00m\n",
      "File \u001b[1;32md:\\DAV\\DavSync\\Study\\2023S\\ANLY591\\Final_project\\code\\stock_bird_env.py:55\u001b[0m, in \u001b[0;36mStockBirdEnv.render\u001b[1;34m(self, mode)\u001b[0m\n\u001b[0;32m     52\u001b[0m \u001b[39mdef\u001b[39;00m \u001b[39mrender\u001b[39m(\u001b[39mself\u001b[39m, mode\u001b[39m=\u001b[39m\u001b[39m'\u001b[39m\u001b[39mhuman\u001b[39m\u001b[39m'\u001b[39m):\n\u001b[0;32m     53\u001b[0m     \u001b[39m# Plot the ideal trajectory and the bird's position\u001b[39;00m\n\u001b[0;32m     54\u001b[0m     plt\u001b[39m.\u001b[39mplot(\u001b[39mself\u001b[39m\u001b[39m.\u001b[39mtrajectory[:\u001b[39mself\u001b[39m\u001b[39m.\u001b[39msteps\u001b[39m+\u001b[39m\u001b[39m1\u001b[39m], color\u001b[39m=\u001b[39m\u001b[39m'\u001b[39m\u001b[39mgray\u001b[39m\u001b[39m'\u001b[39m)\n\u001b[1;32m---> 55\u001b[0m     plt\u001b[39m.\u001b[39mplot(\u001b[39mself\u001b[39m\u001b[39m.\u001b[39msteps, \u001b[39mself\u001b[39;49m\u001b[39m.\u001b[39;49mstate[\u001b[39m0\u001b[39m], \u001b[39m'\u001b[39m\u001b[39mro\u001b[39m\u001b[39m'\u001b[39m, markersize\u001b[39m=\u001b[39m\u001b[39m10\u001b[39m)\n\u001b[0;32m     57\u001b[0m     \u001b[39m# Add labels and formatting\u001b[39;00m\n\u001b[0;32m     58\u001b[0m     plt\u001b[39m.\u001b[39mtitle(\u001b[39m'\u001b[39m\u001b[39mStock Bird Environment\u001b[39m\u001b[39m'\u001b[39m)\n",
      "\u001b[1;31mAttributeError\u001b[0m: 'StockBirdEnv' object has no attribute 'state'"
     ]
    },
    {
     "data": {
      "image/png": "[encoded data removed]",
      "text/plain": [
       "<Figure size 640x480 with 1 Axes>"
      ]
     },
     "metadata": {},
     "output_type": "display_data"
    }
   ],
   "source": [
    "env = gym.make('StockBird-v0')\n",
    "obs = env.reset()\n",
    "\n",
    "done = False\n",
    "while not done:\n",
    "    env.render()\n",
    "\n",
    "    # Get user input from keyboard\n",
    "    action = None\n",
    "    while action is None:\n",
    "        key = input(\"Action (up/down/keep): \")\n",
    "        if key == \"up\":\n",
    "            action = 0\n",
    "        elif key == \"down\":\n",
    "            action = 1\n",
    "        elif key == \"keep\":\n",
    "            action = 2\n",
    "\n",
    "    # Take a step in the environment\n",
    "    obs, reward, done, _ = env.step(action)\n"
   ]
  }
 ],
 "metadata": {
  "kernelspec": {
   "display_name": "venv",
   "language": "python",
   "name": "python3"
  },
  "language_info": {
   "codemirror_mode": {
    "name": "ipython",
    "version": 3
   },
   "file_extension": ".py",
   "mimetype": "text/x-python",
   "name": "python",
   "nbconvert_exporter": "python",
   "pygments_lexer": "ipython3",
   "version": "3.9.16"
  },
  "orig_nbformat": 4
 },
 "nbformat": 4,
 "nbformat_minor": 2
}
