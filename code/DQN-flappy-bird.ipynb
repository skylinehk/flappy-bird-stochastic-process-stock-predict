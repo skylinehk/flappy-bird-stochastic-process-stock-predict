{
 "cells": [
  {
   "cell_type": "code",
   "execution_count": 1,
   "metadata": {},
   "outputs": [
    {
     "data": {
      "text/plain": [
       "<contextlib.ExitStack at 0x1af3abc98e0>"
      ]
     },
     "execution_count": 1,
     "metadata": {},
     "output_type": "execute_result"
    }
   ],
   "source": [
    "# PYTORCH IMPORTS\n",
    "import torch\n",
    "import torch.nn as nn\n",
    "import torch.nn.functional as F\n",
    "import torch.optim as optim\n",
    "\n",
    "# OTHER USEFUL PYTHON MODULES AND PACKAGES\n",
    "import numpy as np\n",
    "import matplotlib\n",
    "import matplotlib.pyplot as plt\n",
    "import gymnasium as gym\n",
    "import imageio\n",
    "import flappy_bird_gym\n",
    "\n",
    "# BASE PYTHON IMPORTS\n",
    "import random\n",
    "from collections import deque, namedtuple\n",
    "from itertools import count\n",
    "import time\n",
    "from pathlib import Path\n",
    "\n",
    "\n",
    "# SET UP MATPLOTLIB\n",
    "is_ipython = 'inline' in matplotlib.get_backend()\n",
    "if is_ipython:\n",
    "    from IPython import display\n",
    "\n",
    "plt.ion()"
   ]
  },
  {
   "cell_type": "code",
   "execution_count": 2,
   "metadata": {},
   "outputs": [],
   "source": [
    "# run this cell if matplotlib causes python kernel dead\n",
    "import os\n",
    "os.environ[\"KMP_DUPLICATE_LIB_OK\"]=\"TRUE\""
   ]
  },
  {
   "cell_type": "code",
   "execution_count": 3,
   "metadata": {},
   "outputs": [],
   "source": [
    "# # check your environment\n",
    "# import sys\n",
    "# print(sys.executable)\n",
    "# print(torch.__file__) \n",
    "# print(torch.cuda.is_available())\n",
    "# from torch.utils import collect_env\n",
    "# print(collect_env.main())"
   ]
  },
  {
   "cell_type": "code",
   "execution_count": 4,
   "metadata": {},
   "outputs": [],
   "source": [
    "# install and import the flappy-bird-gym env\n",
    "# pip install flappy-bird-gym"
   ]
  },
  {
   "cell_type": "code",
   "execution_count": 5,
   "metadata": {},
   "outputs": [
    {
     "name": "stdout",
     "output_type": "stream",
     "text": [
      "# Observation Features: 1 \n",
      "\n",
      "# Possible Actions: 2 \n",
      "\n",
      "Initial Observation: \n",
      "\n",
      "[1.65625] \n",
      "\n",
      "Observation array is of type: <class 'numpy.ndarray'>\n"
     ]
    }
   ],
   "source": [
    "env = flappy_bird_gym.make(\"FlappyBird-v0\")\n",
    "state, info = env.reset()\n",
    "\n",
    "# Convert state to 1D numpy array\n",
    "state = np.array(state).flatten()\n",
    "\n",
    "# Print the number of observation features\n",
    "print('# Observation Features:', len(state), '\\n')\n",
    "\n",
    "# Print the number of possible actions\n",
    "print('# Possible Actions:', env.action_space.n, '\\n')\n",
    "\n",
    "# Print the initial observation\n",
    "print('Initial Observation:', '\\n')\n",
    "print(state, '\\n')\n",
    "\n",
    "# Print the type of the observation array\n",
    "print('Observation array is of type:', type(state))\n",
    "\n",
    "env.close()"
   ]
  },
  {
   "attachments": {},
   "cell_type": "markdown",
   "metadata": {},
   "source": [
    "## Define the model class DQN"
   ]
  },
  {
   "cell_type": "code",
   "execution_count": 6,
   "metadata": {},
   "outputs": [],
   "source": [
    "class DQN(nn.Module):\n",
    "\n",
    "    # DEFINE THE SPECIAL INIT METHOD\n",
    "    def __init__(self, features, hidden, output):\n",
    "        super(DQN, self).__init__()\n",
    "        self.linear1 = nn.Linear(features, hidden[0])\n",
    "        self.linear2 = nn.Linear(hidden[0], hidden[1])\n",
    "        self.linear3 = nn.Linear(hidden[1], output)\n",
    "        \n",
    "    # DEFINE THE FORWARD METHOD\n",
    "    def forward(self, x):\n",
    "        out = F.relu(self.linear1(x))\n",
    "        out = F.relu(self.linear2(out))\n",
    "        y_pred = self.linear3(out)\n",
    "        return y_pred"
   ]
  },
  {
   "attachments": {},
   "cell_type": "markdown",
   "metadata": {},
   "source": [
    "## Replay Memory"
   ]
  },
  {
   "cell_type": "code",
   "execution_count": 7,
   "metadata": {},
   "outputs": [],
   "source": [
    "Transition = namedtuple(\n",
    "    'Transition',\n",
    "    ('state', 'action', 'next_state', 'reward')\n",
    "    )\n",
    "\n",
    "\n",
    "class ReplayMemory(object):\n",
    "    \"\"\"\n",
    "    A class to store gym transitions\n",
    "    \"\"\"\n",
    "    def __init__(self, capacity):\n",
    "        self.memory = deque([], maxlen=capacity)\n",
    "\n",
    "    def push(self, *args):\n",
    "        \"\"\"Save a transition\"\"\"\n",
    "        self.memory.append(Transition(*args))\n",
    "\n",
    "    def sample(self, batch_size):\n",
    "        return random.sample(self.memory, batch_size)\n",
    "\n",
    "    def __len__(self):\n",
    "        return len(self.memory)"
   ]
  },
  {
   "attachments": {},
   "cell_type": "markdown",
   "metadata": {},
   "source": [
    "## Function select action"
   ]
  },
  {
   "cell_type": "code",
   "execution_count": 8,
   "metadata": {},
   "outputs": [],
   "source": [
    "def eps_decay(steps_done):\n",
    "    eps_threshold = EPS_END + (EPS_START - EPS_END) * np.exp(-1. * steps_done / EPS_DECAY)\n",
    "    return eps_threshold"
   ]
  },
  {
   "cell_type": "code",
   "execution_count": 9,
   "metadata": {},
   "outputs": [],
   "source": [
    "def select_action(state, eps):\n",
    "\n",
    "    num_actions = 2  # Add this line\n",
    "\n",
    "    with torch.no_grad():\n",
    "        q_values = policy_net(state)\n",
    "        if random.random() > eps:\n",
    "            # Take the action with the highest Q-value\n",
    "            action = q_values.argmax().unsqueeze(0)\n",
    "        else:\n",
    "            # Take a random action\n",
    "            action = torch.tensor([random.randrange(num_actions)], device=device)\n",
    "    return action"
   ]
  },
  {
   "attachments": {},
   "cell_type": "markdown",
   "metadata": {},
   "source": [
    "## Define function to optimize the model"
   ]
  },
  {
   "cell_type": "code",
   "execution_count": 10,
   "metadata": {},
   "outputs": [],
   "source": [
    "def optimize_model():\n",
    "\n",
    "    # CHECK THE LENGTH OF THE REPLAY MEMORY, RETURN NONE IF LENGTH LESS THAN\n",
    "    # THE BATCH_SIZE\n",
    "    if len(memory) < BATCH_SIZE:\n",
    "        return 0\n",
    "    \n",
    "    # SAMPLE N TRANSITIONS FROM THE REPLAY MEMORY, WHERE N IS BATCH_SIZE\n",
    "    transitions = memory.sample(BATCH_SIZE)\n",
    "\n",
    "    # DEFINE THE BATCH AS TRANSITION NAMED TUPLE, THIS SPLITS state's, \n",
    "    # action's, next_state's, and reward's into tuples see the following link\n",
    "    # https://stackoverflow.com/a/19343/3343043\n",
    "    batch = Transition(*zip(*transitions))\n",
    "\n",
    "    # FIND THE INDICES OF TRANSITIONS THAT ARE NON-TERMINAL STATES\n",
    "    non_final_mask = torch.tensor(\n",
    "        tuple(map(lambda s: s is not None, batch.next_state)), \n",
    "        device=device, \n",
    "        dtype=torch.bool\n",
    "        )\n",
    "    \n",
    "    # FIND THAT STATES THAT ARE NON-TERMINAL STATES\n",
    "    non_final_next_states = torch.cat(\n",
    "        [s for s in batch.next_state if s is not None]\n",
    "        )\n",
    "    \n",
    "\n",
    "    ### CREATE 3 TENSORS ONE FOR THE STATES, ACTIONS AND REWARDS\n",
    "    state_batch = torch.cat(batch.state)\n",
    "    action_batch = torch.cat(batch.action).unsqueeze(1)\n",
    "    reward_batch = torch.cat(batch.reward)\n",
    "\n",
    "\n",
    "    # GET THE ACTION VALUES OF POLICY NET FOR EACH ACTION WHICH WAS TAKEN\n",
    "    # HERE YOU SHOULD USE tensor.gather() METHOD SO YOU CAN SPECIFY WHICH \n",
    "    # ACTION WE ARE INTERESTED IN. WE ONLY WANT THE ACTION WHICH WAS TAKEN\n",
    "    # FOR THE TRANSACTION\n",
    "    state_action_values = policy_net(state_batch).gather(1, action_batch)\n",
    "\n",
    "    # CREATE TENSOR OF ZEROS TO STORE THE NEXT STATE VALUES WITH torch.zeros()\n",
    "    next_state_values = torch.zeros(BATCH_SIZE, device=device)\n",
    "    \n",
    "    # DO NOT CALCULATE GRADIENTS\n",
    "    with torch.no_grad():\n",
    "\n",
    "        # DEFINE THE NEXT STATE Q VALUES USING THE TARGET NET - max(Q_target(s', a'))\n",
    "        next_state_values[non_final_mask] = target_net(non_final_next_states).max(1)[0]\n",
    "        \n",
    "    # COMPUTE EXPECTED RETURN Y = Discount*max(Q_target(s',a)) + Reward \n",
    "    expected_state_action_values = (next_state_values * GAMMA) + reward_batch\n",
    "\n",
    "    # DEFINE THE HUBER LOSS\n",
    "    criterion = nn.SmoothL1Loss()\n",
    "\n",
    "    # CALCULATE THE LOSS L(Q_policy(s,a), Y)\n",
    "    loss = criterion(state_action_values, expected_state_action_values.unsqueeze(1))\n",
    "\n",
    "    # ZERO THE GRADIENTS\n",
    "    optimizer.zero_grad()\n",
    "\n",
    "    # PROPAGATE GRADIENT THROUGH NETWORK \n",
    "    loss.backward()\n",
    "\n",
    "    # IN PLACE GRADIENT CLIPPING\n",
    "    torch.nn.utils.clip_grad_value_(policy_net.parameters(), 100)\n",
    "\n",
    "    # TAKE AN OPTIMIZER STEP\n",
    "    optimizer.step()\n",
    "\n",
    "    return 1"
   ]
  },
  {
   "attachments": {},
   "cell_type": "markdown",
   "metadata": {},
   "source": [
    "## Helper functions to show training progess\n",
    "The plot shows moving average of rewards for the 10 most recent episodes"
   ]
  },
  {
   "cell_type": "code",
   "execution_count": 11,
   "metadata": {},
   "outputs": [],
   "source": [
    "episode_durations = []\n",
    "episode_rewards = []\n",
    "\n",
    "def plot_durations(show_result=False):\n",
    "    plt.figure(1)\n",
    "    durations_t = torch.tensor(episode_durations, dtype=torch.float)\n",
    "    if show_result:\n",
    "        plt.title('Result')\n",
    "    else:\n",
    "        plt.clf()\n",
    "        plt.title('Training...')\n",
    "    plt.xlabel('Episode')\n",
    "    plt.ylabel('Duration')\n",
    "    plt.plot(durations_t.numpy())\n",
    "    # Take 100 episode averages and plot them too\n",
    "    if len(durations_t) >= 100:\n",
    "        means = durations_t.unfold(0, 100, 1).mean(1).view(-1)\n",
    "        means = torch.cat((torch.zeros(99), means))\n",
    "        plt.plot(means.numpy())\n",
    "\n",
    "    plt.pause(0.001)  # pause a bit so that plots are updated\n",
    "    if is_ipython:\n",
    "        if not show_result:\n",
    "            display.display(plt.gcf())\n",
    "            display.clear_output(wait=True)\n",
    "        else:\n",
    "            display.display(plt.gcf())\n",
    "\n",
    "\n",
    "def plot_rewards(show_result=False):\n",
    "    # SET THE CURRENT FIGURE\n",
    "    plt.figure(1)\n",
    "\n",
    "    # IF TRAINING IS COMPLETE\n",
    "    if show_result:\n",
    "        plt.title(f'MA10 Result (Episode {i_episode + 1}Highest Reward: {max(episode_rewards)})')\n",
    "    \n",
    "    # IF STILL TRAINING   \n",
    "    else:\n",
    "        plt.clf()\n",
    "        plt.title(f'Training... Eps: {i_episode + 1} Current Reward: {cum_reward} Highest Reward: {max(episode_rewards)}')\n",
    "    \n",
    "    # SET LABELS AND PLOT DATA\n",
    "    plt.xlabel('Episode')\n",
    "    plt.ylabel('Average Reward (Last 10 Episodes)')\n",
    "    cumulative_average_rewards = np.convolve(episode_rewards, np.ones(10)/10, mode='valid')\n",
    "    plt.plot(cumulative_average_rewards)\n",
    "    # PAUSE SO THAT PLOTS CAN BE UPDATED\n",
    "    plt.pause(0.001)\n",
    "    if is_ipython:\n",
    "        if not show_result:\n",
    "            display.display(plt.gcf())\n",
    "            # WAIT UNTIL NEW OUTPUT AVAILABLE TO CLEAR CURRENT FIGURE\n",
    "            display.clear_output(wait=True)\n",
    "        else:\n",
    "            display.display(plt.gcf())"
   ]
  },
  {
   "cell_type": "markdown",
   "metadata": {},
   "source": [
    "## Define the model and training parameters\n"
   ]
  },
  {
   "cell_type": "code",
   "execution_count": 12,
   "metadata": {},
   "outputs": [],
   "source": [
    "# Define the environment\n",
    "env = flappy_bird_gym.make(\"FlappyBird-v0\")\n",
    "\n",
    "# Set the device for training\n",
    "device = torch.device(\"cuda\" if torch.cuda.is_available() else \"cpu\")\n",
    "\n",
    "# Define all the scalar constants\n",
    "BATCH_SIZE = 64\n",
    "GAMMA = 0.99\n",
    "EPS_START = 0.9\n",
    "EPS_END = 0.05\n",
    "EPS_DECAY = 1000\n",
    "TAU = 0.005\n",
    "LR = 1e-4\n",
    "HIDDEN = 64\n",
    "MEMORY = 50000\n",
    "\n",
    "# Get the number of actions from the environment\n",
    "n_actions = env.action_space.n\n",
    "\n",
    "# Reset the environment\n",
    "state = env.reset()\n",
    "\n",
    "# Get the number of features in a state\n",
    "n_features = state.shape[0]\n",
    "\n",
    "# Define the policy and target net as instances of the DQN model\n",
    "policy_net = DQN(n_features, [HIDDEN, HIDDEN], n_actions).to(device)\n",
    "target_net = DQN(n_features, [HIDDEN, HIDDEN], n_actions).to(device)\n",
    "\n",
    "# Sync the weights of the target and policy nets\n",
    "target_net.load_state_dict(policy_net.state_dict())\n",
    "\n",
    "# Define the optimizer - use AdamW with amsgrad=True\n",
    "optimizer = torch.optim.AdamW(policy_net.parameters(), lr=LR, amsgrad=True)\n",
    "\n",
    "# Define the replay memory as an instance of ReplayMemory\n",
    "replay_buffer = ReplayMemory(MEMORY)"
   ]
  },
  {
   "cell_type": "code",
   "execution_count": 13,
   "metadata": {},
   "outputs": [],
   "source": [
    "# # TEST THE MODEL\n",
    "# ini_state = [1.0, 2.0]\n",
    "# state = ini_state\n",
    "# state_tensor = torch.tensor(state, dtype=torch.float32, device=device).unsqueeze(0)\n",
    "# # Define the policy and target net as instances of the updated DQN model\n",
    "# policy_net = DQN(n_features, [HIDDEN, HIDDEN], n_actions).to(device)\n",
    "# target_net = DQN(n_features, [HIDDEN, HIDDEN], n_actions).to(device)\n",
    "\n",
    "# # Sync the weights of the target and policy nets\n",
    "# target_net.load_state_dict(policy_net.state_dict())\n",
    "\n",
    "# print('The observation:\\n')\n",
    "# print(state_tensor.to(device), '\\n')\n",
    "\n",
    "# print('The policy net predictions:\\n')\n",
    "# with torch.no_grad():\n",
    "#     q_values = policy_net(state_tensor.to(device))\n",
    "#     print(q_values, '\\n')\n",
    "#     action = q_values.argmax().item()\n",
    "#     print('Action:', action, '\\n')\n",
    "\n",
    "# print('Using the select action function:', '\\n')\n",
    "# action = select_action(state_tensor.to(device), eps=0)\n",
    "# print('Action:', action)"
   ]
  },
  {
   "attachments": {},
   "cell_type": "markdown",
   "metadata": {},
   "source": [
    "## Define Training Loop"
   ]
  },
  {
   "cell_type": "code",
   "execution_count": 14,
   "metadata": {},
   "outputs": [
    {
     "name": "stdout",
     "output_type": "stream",
     "text": [
      "Complete\n"
     ]
    },
    {
     "data": {
      "image/png": "[encoded data removed]",
      "text/plain": [
       "<Figure size 640x480 with 1 Axes>"
      ]
     },
     "metadata": {},
     "output_type": "display_data"
    },
    {
     "data": {
      "text/plain": [
       "<Figure size 640x480 with 0 Axes>"
      ]
     },
     "metadata": {},
     "output_type": "display_data"
    },
    {
     "data": {
      "text/plain": [
       "<Figure size 640x480 with 0 Axes>"
      ]
     },
     "metadata": {},
     "output_type": "display_data"
    }
   ],
   "source": [
    "# CHECK IF CUDA IS AVAILABLE\n",
    "device = torch.device(\"cuda\" if torch.cuda.is_available() else \"cpu\")\n",
    "\n",
    "# DATA STRUCTURES TO STORE RELEVANT DATA FOR FUTURE PLOTS\n",
    "episode_durations = []\n",
    "episode_rewards = []\n",
    "total_transitions = 0\n",
    "start_time = time.time()\n",
    "num_episodes = 5000\n",
    "memory = ReplayMemory(MEMORY)\n",
    "\n",
    "# PERFORM SET NUMBER OF EPISODES\n",
    "for i_episode in range(num_episodes):\n",
    "\n",
    "    # START THE ENVIRONMENT AND OBSERVE THE STATE\n",
    "    state = env.reset()\n",
    "\n",
    "    # CONVERT THE 8 ELEMENT ARRAY TO TORCH TENSOR AND MOVE TO DEVICE\n",
    "    state = torch.tensor(state, dtype=torch.float32, device=device).unsqueeze(0)\n",
    "    cum_reward = 0\n",
    "    \n",
    "    # FOR EVERY TRANSITION IN THE EPISODE (ITERATES UNTIL TERMINAL STATE)\n",
    "    for t in count():\n",
    "        \n",
    "        # UPDATE TOTAL TRANSITIONS COUNTER\n",
    "        total_transitions += 1\n",
    "\n",
    "        # CALCULATE EPS USING TOTAL TRANSITIONS\n",
    "        eps = eps_decay(total_transitions)\n",
    "\n",
    "        # SELECT AN ACTION USING THE TARGET NETWORK - select_action() FUNCTION\n",
    "        action = select_action(state, eps=eps)\n",
    "\n",
    "        # OBSERVE THE TRANSITION\n",
    "        observation, reward, done, _ = env.step(action.item())\n",
    "        cum_reward += reward\n",
    "        reward = torch.tensor([reward], device=device)\n",
    "\n",
    "        # DEFINE THE NEXT STATE OF THE ENVIRONMENT\n",
    "        if done:\n",
    "            next_state = None\n",
    "        else:\n",
    "            next_state = torch.tensor(observation, dtype=torch.float32, device=device).unsqueeze(0)\n",
    "\n",
    "        # PUSH THE TRANSITION INTO THE REPLAY MEMORY\n",
    "        memory.push(state, action, next_state, reward)\n",
    "\n",
    "        # STORE THE NEXT STATE AS CURRENT STATE FOR NEXT ITERATION\n",
    "        state = next_state\n",
    "\n",
    "        # OPTIMIZE THE MODEL (UPDATE THE WEIGHTS OF THE POLICY NET)\n",
    "        optimize_model()\n",
    "\n",
    "        # GET THE CURRENT WEIGHTS OF EACH NETWORK\n",
    "        target_net_state_dict = target_net.state_dict()\n",
    "        policy_net_state_dict = policy_net.state_dict()\n",
    "\n",
    "        # CALCULATE SOFT UPDATE OF TARGET NET WEIGHTS\n",
    "        # θ′ ← τ θ + (1 −τ )θ′\n",
    "        for key in policy_net_state_dict:\n",
    "            # MOVE THE POLICY_NET_STATE_DICT TENSOR TO THE CPU DEVICE\n",
    "            policy_net_state_dict[key] = policy_net_state_dict[key].to(device)\n",
    "            target_net_state_dict[key] = policy_net_state_dict[key]*TAU + target_net_state_dict[key]*(1-TAU)\n",
    "            target_net_state_dict[key] = target_net_state_dict[key].to(device)\n",
    "\n",
    "        # APPLY THE UPDATE TO THE TARGET NETWORK\n",
    "        target_net.load_state_dict(target_net_state_dict)\n",
    "\n",
    "\n",
    "        # IF THE EPISODE IS COMPLETE BREAK INNER LOOP\n",
    "        if done:\n",
    "            episode_durations.append(t + 1)\n",
    "            episode_rewards.append(cum_reward)\n",
    "            # plot_durations()\n",
    "            plot_rewards()\n",
    "            break\n",
    "\n",
    "print('Complete')\n",
    "end_time = time.time()\n",
    "plot_rewards(show_result=True)\n",
    "plt.ioff()\n",
    "plt.show()"
   ]
  },
  {
   "cell_type": "code",
   "execution_count": 15,
   "metadata": {},
   "outputs": [
    {
     "name": "stdout",
     "output_type": "stream",
     "text": [
      "4412.766364574432\n"
     ]
    }
   ],
   "source": [
    "print(end_time - start_time)"
   ]
  },
  {
   "attachments": {},
   "cell_type": "markdown",
   "metadata": {},
   "source": [
    "## Save and Check The Results"
   ]
  },
  {
   "cell_type": "code",
   "execution_count": 16,
   "metadata": {},
   "outputs": [],
   "source": [
    "path = Path('./models/flappy_bird_dqn_linear_1.pth')\n",
    "torch.save(policy_net, './models/flappy_bird_dqn_linear_1.pth')"
   ]
  },
  {
   "cell_type": "code",
   "execution_count": null,
   "metadata": {},
   "outputs": [
    {
     "name": "stdout",
     "output_type": "stream",
     "text": [
      "Episode 1: Cumulative Reward = 116\n",
      "Episode 2: Cumulative Reward = 228\n",
      "Episode 3: Cumulative Reward = 179\n",
      "Episode 4: Cumulative Reward = 143\n",
      "Episode 5: Cumulative Reward = 137\n",
      "Episode 6: Cumulative Reward = 174\n",
      "Episode 7: Cumulative Reward = 174\n",
      "Episode 8: Cumulative Reward = 212\n",
      "Episode 9: Cumulative Reward = 107\n",
      "Episode 10: Cumulative Reward = 121\n",
      "Episode 11: Cumulative Reward = 174\n",
      "Episode 12: Cumulative Reward = 148\n",
      "Episode 13: Cumulative Reward = 103\n",
      "Episode 14: Cumulative Reward = 226\n",
      "Episode 15: Cumulative Reward = 154\n",
      "Episode 16: Cumulative Reward = 156\n",
      "Episode 17: Cumulative Reward = 108\n",
      "Episode 18: Cumulative Reward = 190\n",
      "Episode 19: Cumulative Reward = 137\n",
      "Episode 20: Cumulative Reward = 187\n",
      "Average Reward over 20 Episodes = 158.70\n"
     ]
    }
   ],
   "source": [
    "# Set up the Flappy Bird environment\n",
    "env = flappy_bird_gym.make(\"FlappyBird-v0\")\n",
    "\n",
    "# Set up the DQN policy network\n",
    "input_dim = 2  # Replace with the actual input dimensions for your environment\n",
    "output_dim = env.action_space.n\n",
    "hidden_dim = 64\n",
    "\n",
    "# Play the game using the trained policy network for 20 episodes\n",
    "num_episodes = 20\n",
    "episode_rewards = []\n",
    "\n",
    "for i_episode in range(num_episodes):\n",
    "    state = env.reset()\n",
    "    cum_reward = 0\n",
    "\n",
    "    while True:\n",
    "        state = torch.tensor(state, dtype=torch.float32, device=device).unsqueeze(0)\n",
    "        q_values = policy_net(state)\n",
    "        action = q_values.argmax(dim=1).item()\n",
    "        state, reward, done, _ = env.step(action)\n",
    "        cum_reward += reward\n",
    "\n",
    "        if done:\n",
    "            episode_rewards.append(cum_reward)\n",
    "            print(\"Episode {}: Cumulative Reward = {}\".format(i_episode+1, cum_reward))\n",
    "            break\n",
    "\n",
    "# Print the average rewards over 20 episodes\n",
    "avg_reward = sum(episode_rewards) / len(episode_rewards)\n",
    "print(\"Average Reward over 20 Episodes = {:.2f}\".format(avg_reward))"
   ]
  },
  {
   "cell_type": "code",
   "execution_count": null,
   "metadata": {},
   "outputs": [],
   "source": [
    "# Load the model\n",
    "#policy_net = torch.load('./models/flappy_bird_dqn_linear_1.pth')"
   ]
  },
  {
   "attachments": {},
   "cell_type": "markdown",
   "metadata": {},
   "source": [
    "## Improve the DQN network"
   ]
  },
  {
   "cell_type": "code",
   "execution_count": 18,
   "metadata": {},
   "outputs": [],
   "source": [
    "class enhancedDQN(nn.Module):\n",
    "    def __init__(self, n_features, hidden, n_actions, p=0.1):\n",
    "        super(enhancedDQN, self).__init__()\n",
    "        self.fc1 = nn.Linear(n_features, hidden[0])\n",
    "        self.drop1 = nn.Dropout(p)\n",
    "        self.fc2 = nn.Linear(hidden[0], hidden[1])\n",
    "        self.drop2 = nn.Dropout(p)\n",
    "        self.fc3 = nn.Linear(hidden[1], n_actions)\n",
    "\n",
    "    def forward(self, x):\n",
    "        x = F.relu(self.drop1(self.fc1(x)))\n",
    "        x = F.relu(self.drop2(self.fc2(x)))\n",
    "        x = self.fc3(x)\n",
    "        return x\n",
    "\n",
    "    # using the Kaiming He's initialization\n",
    "    def init_weights(self):\n",
    "        for m in self.modules():\n",
    "            if isinstance(m, nn.Linear):\n",
    "                nn.init.kaiming_uniform_(m.weight, nonlinearity='relu')\n",
    "                nn.init.constant_(m.bias, 0.1)\n"
   ]
  },
  {
   "cell_type": "code",
   "execution_count": 19,
   "metadata": {},
   "outputs": [],
   "source": [
    "def optimize_model():\n",
    "\n",
    "    # CHECK THE LENGTH OF THE REPLAY MEMORY, RETURN NONE IF LENGTH LESS THAN\n",
    "    # THE BATCH_SIZE\n",
    "    if len(memory) < BATCH_SIZE:\n",
    "        return 0\n",
    "    \n",
    "    # SAMPLE N TRANSITIONS FROM THE REPLAY MEMORY, WHERE N IS BATCH_SIZE\n",
    "    transitions = memory.sample(BATCH_SIZE)\n",
    "\n",
    "    # DEFINE THE BATCH AS TRANSITION NAMED TUPLE, THIS SPLITS state's, \n",
    "    # action's, next_state's, and reward's into tuples see the following link\n",
    "    # https://stackoverflow.com/a/19343/3343043\n",
    "    batch = Transition(*zip(*transitions))\n",
    "\n",
    "    # FIND THE INDICES OF TRANSITIONS THAT ARE NON-TERMINAL STATES\n",
    "    non_final_mask = torch.tensor(\n",
    "        tuple(map(lambda s: s is not None, batch.next_state)), \n",
    "        device=device, \n",
    "        dtype=torch.bool\n",
    "        )\n",
    "    \n",
    "    # FIND THAT STATES THAT ARE NON-TERMINAL STATES\n",
    "    non_final_next_states = torch.cat(\n",
    "        [s for s in batch.next_state if s is not None]\n",
    "        )\n",
    "    \n",
    "\n",
    "    ### CREATE 3 TENSORS ONE FOR THE STATES, ACTIONS AND REWARDS\n",
    "    state_batch = torch.cat(batch.state)\n",
    "    action_batch = torch.cat(batch.action).unsqueeze(1)\n",
    "    reward_batch = torch.cat(batch.reward)\n",
    "\n",
    "\n",
    "    # GET THE ACTION VALUES OF POLICY NET FOR EACH ACTION WHICH WAS TAKEN\n",
    "    # HERE YOU SHOULD USE tensor.gather() METHOD SO YOU CAN SPECIFY WHICH \n",
    "    # ACTION WE ARE INTERESTED IN. WE ONLY WANT THE ACTION WHICH WAS TAKEN\n",
    "    # FOR THE TRANSACTION\n",
    "    state_action_values = policy_net(state_batch)\n",
    "\n",
    "    # CREATE TENSOR OF ZEROS TO STORE THE NEXT STATE VALUES WITH torch.zeros()\n",
    "    next_state_values = torch.zeros(BATCH_SIZE, device=device)\n",
    "    \n",
    "    # DO NOT CALCULATE GRADIENTS\n",
    "    with torch.no_grad():\n",
    "\n",
    "        # DEFINE THE NEXT STATE Q VALUES USING THE TARGET NET - max(Q_target(s', a'))\n",
    "        next_state_actions = policy_net(non_final_next_states)\n",
    "        next_state_values[non_final_mask] = target_net(non_final_next_states).max(1)[0].detach()\n",
    "\n",
    "    # COMPUTE EXPECTED RETURN Y = Discount*max(Q_target(s',a)) + Reward \n",
    "    expected_state_action_values = (next_state_values * GAMMA) + reward_batch\n",
    "\n",
    "    # DEFINE THE HUBER LOSS\n",
    "    criterion = nn.SmoothL1Loss()\n",
    "\n",
    "    # CALCULATE THE LOSS L(Q_policy(s,a), Y)\n",
    "    loss = criterion(state_action_values.gather(1, action_batch), expected_state_action_values.unsqueeze(1))\n",
    "\n",
    "    # ZERO THE GRADIENTS\n",
    "    optimizer.zero_grad()\n",
    "\n",
    "    # PROPAGATE GRADIENT THROUGH NETWORK \n",
    "    loss.backward()\n",
    "\n",
    "    # IN PLACE GRADIENT CLIPPING\n",
    "    torch.nn.utils.clip_grad_value_(policy_net.parameters(), 100)\n",
    "\n",
    "    # TAKE AN OPTIMIZER STEP\n",
    "    optimizer.step()\n",
    "\n",
    "    return 1"
   ]
  },
  {
   "cell_type": "code",
   "execution_count": 20,
   "metadata": {},
   "outputs": [],
   "source": [
    "# Define the environment\n",
    "env = flappy_bird_gym.make(\"FlappyBird-v0\")\n",
    "\n",
    "# Set the device for training\n",
    "device = torch.device(\"cuda\" if torch.cuda.is_available() else \"cpu\")\n",
    "\n",
    "# Define all the scalar constants\n",
    "BATCH_SIZE = 256\n",
    "GAMMA = 0.99\n",
    "EPS_START = 0.1\n",
    "EPS_END = 0.0001\n",
    "EPS_DECAY = 100000\n",
    "TAU = 0.005\n",
    "LR = 0.001\n",
    "HIDDEN = 256\n",
    "MEMORY = 100000\n",
    "\n",
    "# Get the number of actions from the environment\n",
    "n_actions = env.action_space.n\n",
    "\n",
    "# Reset the environment\n",
    "state = env.reset()\n",
    "\n",
    "# Get the number of features in a state\n",
    "n_features = state.shape[0]\n",
    "\n",
    "# Define the policy and target net as instances of the updated DQN model\n",
    "policy_net = enhancedDQN(n_features, [HIDDEN, HIDDEN], n_actions).to(device)\n",
    "target_net = enhancedDQN(n_features, [HIDDEN, HIDDEN], n_actions).to(device)\n",
    "\n",
    "# Sync the weights of the target and policy nets\n",
    "target_net.load_state_dict(policy_net.state_dict())\n",
    "\n",
    "# Define the optimizer - use AdamW with amsgrad=True\n",
    "optimizer = torch.optim.AdamW(policy_net.parameters(), lr=LR, amsgrad=True)\n",
    "\n",
    "# Define the replay memory as an instance of ReplayMemory\n",
    "replay_buffer = ReplayMemory(MEMORY)"
   ]
  },
  {
   "cell_type": "code",
   "execution_count": 21,
   "metadata": {},
   "outputs": [],
   "source": [
    "# # TEST THE MODEL\n",
    "# ini_state = [1.0, 2.0]\n",
    "# state = ini_state\n",
    "# state_tensor = torch.tensor(state, dtype=torch.float32, device=device).unsqueeze(0)\n",
    "# # Define the policy and target net as instances of the updated DQN model\n",
    "# policy_net = enhancedDQN(n_features, [HIDDEN, HIDDEN], n_actions).to(device)\n",
    "# target_net = enhancedDQN(n_features, [HIDDEN, HIDDEN], n_actions).to(device)\n",
    "\n",
    "# # Sync the weights of the target and policy nets\n",
    "# target_net.load_state_dict(policy_net.state_dict())\n",
    "\n",
    "# print('The observation:\\n')\n",
    "# print(state_tensor.to(device), '\\n')\n",
    "\n",
    "# print('The policy net predictions:\\n')\n",
    "# with torch.no_grad():\n",
    "#     q_values = policy_net(state_tensor.to(device))\n",
    "#     print(q_values, '\\n')\n",
    "#     action = q_values.argmax().item()\n",
    "#     print('Action:', action, '\\n')\n",
    "\n",
    "# print('Using the select action function:', '\\n')\n",
    "# action = select_action(state_tensor.to(device), eps=0)\n",
    "# print('Action:', action)"
   ]
  },
  {
   "cell_type": "code",
   "execution_count": 22,
   "metadata": {},
   "outputs": [
    {
     "name": "stdout",
     "output_type": "stream",
     "text": [
      "Complete\n"
     ]
    },
    {
     "data": {
      "image/png": "[encoded data removed]",
      "text/plain": [
       "<Figure size 640x480 with 1 Axes>"
      ]
     },
     "metadata": {},
     "output_type": "display_data"
    },
    {
     "data": {
      "text/plain": [
       "<Figure size 640x480 with 0 Axes>"
      ]
     },
     "metadata": {},
     "output_type": "display_data"
    },
    {
     "data": {
      "text/plain": [
       "<Figure size 640x480 with 0 Axes>"
      ]
     },
     "metadata": {},
     "output_type": "display_data"
    },
    {
     "name": "stdout",
     "output_type": "stream",
     "text": [
      "12598.60365319252\n"
     ]
    }
   ],
   "source": [
    "# CHECK IF CUDA IS AVAILABLE\n",
    "device = torch.device(\"cuda\" if torch.cuda.is_available() else \"cpu\")\n",
    "\n",
    "# DATA STRUCTURES TO STORE RELEVANT DATA FOR FUTURE PLOTS\n",
    "episode_durations = []\n",
    "episode_rewards = []\n",
    "total_transitions = 0\n",
    "start_time = time.time()\n",
    "num_episodes = 10000\n",
    "memory = ReplayMemory(MEMORY)\n",
    "\n",
    "# PERFORM SET NUMBER OF EPISODES\n",
    "for i_episode in range(num_episodes):\n",
    "\n",
    "    # START THE ENVIRONMENT AND OBSERVE THE STATE\n",
    "    state = env.reset()\n",
    "\n",
    "    # CONVERT THE 8 ELEMENT ARRAY TO TORCH TENSOR AND MOVE TO DEVICE\n",
    "    state = torch.tensor(state, dtype=torch.float32, device=device).unsqueeze(0)\n",
    "    cum_reward = 0\n",
    "    \n",
    "    # FOR EVERY TRANSITION IN THE EPISODE (ITERATES UNTIL TERMINAL STATE)\n",
    "    for t in count():\n",
    "        \n",
    "        # UPDATE TOTAL TRANSITIONS COUNTER\n",
    "        total_transitions += 1\n",
    "\n",
    "        # CALCULATE EPS USING TOTAL TRANSITIONS\n",
    "        eps = eps_decay(total_transitions)\n",
    "\n",
    "        # SELECT AN ACTION USING THE TARGET NETWORK - select_action() FUNCTION\n",
    "        action = select_action(state, eps=eps)\n",
    "\n",
    "        # OBSERVE THE TRANSITION\n",
    "        observation, reward, done, _ = env.step(action.item())\n",
    "        cum_reward += reward\n",
    "        reward = torch.tensor([reward], device=device)\n",
    "        \n",
    "        if reward < 0:\n",
    "            done = True\n",
    "            \n",
    "        # DEFINE THE NEXT STATE OF THE ENVIRONMENT\n",
    "        if done:\n",
    "            next_state = None\n",
    "        else:\n",
    "            next_state = torch.tensor(observation, dtype=torch.float32, device=device).unsqueeze(0)\n",
    "\n",
    "        # PUSH THE TRANSITION INTO THE REPLAY MEMORY\n",
    "        memory.push(state, action, next_state, reward)\n",
    "\n",
    "        # STORE THE NEXT STATE AS CURRENT STATE FOR NEXT ITERATION\n",
    "        state = next_state\n",
    "\n",
    "        # OPTIMIZE THE MODEL (UPDATE THE WEIGHTS OF THE POLICY NET)\n",
    "        optimize_model()\n",
    "\n",
    "        # GET THE CURRENT WEIGHTS OF EACH NETWORK\n",
    "        target_net_state_dict = target_net.state_dict()\n",
    "        policy_net_state_dict = policy_net.state_dict()\n",
    "\n",
    "        # CALCULATE SOFT UPDATE OF TARGET NET WEIGHTS\n",
    "        # θ′ ← τ θ + (1 −τ )θ′\n",
    "        for key in policy_net_state_dict:\n",
    "            # MOVE THE POLICY_NET_STATE_DICT TENSOR TO THE CPU DEVICE\n",
    "            policy_net_state_dict[key] = policy_net_state_dict[key].to(device)\n",
    "            target_net_state_dict[key] = policy_net_state_dict[key]*TAU + target_net_state_dict[key]*(1-TAU)\n",
    "            target_net_state_dict[key] = target_net_state_dict[key].to(device)\n",
    "\n",
    "        # APPLY THE UPDATE TO THE TARGET NETWORK\n",
    "        target_net.load_state_dict(target_net_state_dict)\n",
    "\n",
    "\n",
    "        # IF THE EPISODE IS COMPLETE BREAK INNER LOOP\n",
    "        if done:\n",
    "            episode_durations.append(t + 1)\n",
    "            episode_rewards.append(cum_reward)\n",
    "            # plot_durations()\n",
    "            plot_rewards()\n",
    "            break\n",
    "\n",
    "print('Complete')\n",
    "end_time = time.time()\n",
    "plot_rewards(show_result=True)\n",
    "plt.ioff()\n",
    "plt.show()\n",
    "print(end_time - start_time)"
   ]
  },
  {
   "cell_type": "code",
   "execution_count": 23,
   "metadata": {},
   "outputs": [],
   "source": [
    "path = Path('./models/flappy_bird_newdqn.pth')\n",
    "torch.save(policy_net, './models/flappy_bird_newdqn.pth')"
   ]
  },
  {
   "cell_type": "code",
   "execution_count": 17,
   "metadata": {},
   "outputs": [
    {
     "name": "stdout",
     "output_type": "stream",
     "text": [
      "Episode 1: Cumulative Reward = 506\n",
      "Episode 2: Cumulative Reward = 396\n",
      "Episode 3: Cumulative Reward = 210\n",
      "Episode 4: Cumulative Reward = 285\n",
      "Episode 5: Cumulative Reward = 1394\n",
      "Episode 6: Cumulative Reward = 358\n",
      "Episode 7: Cumulative Reward = 1024\n",
      "Episode 8: Cumulative Reward = 212\n",
      "Episode 9: Cumulative Reward = 211\n",
      "Episode 10: Cumulative Reward = 804\n",
      "Episode 11: Cumulative Reward = 139\n",
      "Episode 12: Cumulative Reward = 211\n",
      "Episode 13: Cumulative Reward = 728\n",
      "Episode 14: Cumulative Reward = 2320\n",
      "Episode 15: Cumulative Reward = 1805\n",
      "Episode 16: Cumulative Reward = 1098\n",
      "Episode 17: Cumulative Reward = 876\n",
      "Episode 18: Cumulative Reward = 876\n",
      "Episode 19: Cumulative Reward = 1765\n",
      "Episode 20: Cumulative Reward = 802\n",
      "Average Reward over 20 Episodes = 801.00\n"
     ]
    }
   ],
   "source": [
    "# Set up the Flappy Bird environment\n",
    "env = flappy_bird_gym.make(\"FlappyBird-v0\")\n",
    "\n",
    "# Set up the DQN policy network\n",
    "input_dim = 2  # Replace with the actual input dimensions for your environment\n",
    "output_dim = env.action_space.n\n",
    "hidden_dim = 64\n",
    "\n",
    "# Play the game using the trained policy network for 20 episodes\n",
    "num_episodes = 20\n",
    "episode_rewards = []\n",
    "\n",
    "for i_episode in range(num_episodes):\n",
    "    state = env.reset()\n",
    "    cum_reward = 0\n",
    "\n",
    "    while True:\n",
    "        state = torch.tensor(state, dtype=torch.float32, device=device).unsqueeze(0)\n",
    "        q_values = policy_net(state)\n",
    "        action = q_values.argmax(dim=1).item()\n",
    "        state, reward, done, _ = env.step(action)\n",
    "        cum_reward += reward\n",
    "\n",
    "        if done:\n",
    "            episode_rewards.append(cum_reward)\n",
    "            print(\"Episode {}: Cumulative Reward = {}\".format(i_episode+1, cum_reward))\n",
    "            break\n",
    "\n",
    "# Print the average rewards over 20 episodes\n",
    "avg_reward = sum(episode_rewards) / len(episode_rewards)\n",
    "print(\"Average Reward over 20 Episodes = {:.2f}\".format(avg_reward))"
   ]
  },
  {
   "cell_type": "code",
   "execution_count": null,
   "metadata": {},
   "outputs": [],
   "source": [
    "# # Load the model\n",
    "# policy_net = torch.load('./models/flappy_bird_newdqn.pth')"
   ]
  }
 ],
 "metadata": {
  "kernelspec": {
   "display_name": "venv",
   "language": "python",
   "name": "python3"
  },
  "language_info": {
   "codemirror_mode": {
    "name": "ipython",
    "version": 3
   },
   "file_extension": ".py",
   "mimetype": "text/x-python",
   "name": "python",
   "nbconvert_exporter": "python",
   "pygments_lexer": "ipython3",
   "version": "3.9.16"
  },
  "orig_nbformat": 4
 },
 "nbformat": 4,
 "nbformat_minor": 2
}
