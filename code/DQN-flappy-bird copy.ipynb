{
 "cells": [
  {
   "cell_type": "code",
   "execution_count": 1,
   "metadata": {},
   "outputs": [
    {
     "data": {
      "text/plain": [
       "<contextlib.ExitStack at 0x1d706573e50>"
      ]
     },
     "execution_count": 1,
     "metadata": {},
     "output_type": "execute_result"
    }
   ],
   "source": [
    "# PYTORCH IMPORTS\n",
    "import torch\n",
    "import torch.nn as nn\n",
    "import torch.nn.functional as F\n",
    "import torch.optim as optim\n",
    "\n",
    "# OTHER USEFUL PYTHON MODULES AND PACKAGES\n",
    "import numpy as np\n",
    "import matplotlib\n",
    "import matplotlib.pyplot as plt\n",
    "import gymnasium as gym\n",
    "import imageio\n",
    "import flappy_bird_gym\n",
    "\n",
    "# BASE PYTHON IMPORTS\n",
    "import random\n",
    "from collections import deque, namedtuple\n",
    "from itertools import count\n",
    "import time\n",
    "from pathlib import Path\n",
    "\n",
    "\n",
    "# SET UP MATPLOTLIB\n",
    "is_ipython = 'inline' in matplotlib.get_backend()\n",
    "if is_ipython:\n",
    "    from IPython import display\n",
    "\n",
    "plt.ion()"
   ]
  },
  {
   "cell_type": "code",
   "execution_count": 2,
   "metadata": {},
   "outputs": [],
   "source": [
    "# run this cell if matplotlib causes python kernel dead\n",
    "import os\n",
    "os.environ[\"KMP_DUPLICATE_LIB_OK\"]=\"TRUE\""
   ]
  },
  {
   "cell_type": "code",
   "execution_count": 3,
   "metadata": {},
   "outputs": [],
   "source": [
    "# # check your environment\n",
    "# import sys\n",
    "# print(sys.executable)\n",
    "# print(torch.__file__) \n",
    "# print(torch.cuda.is_available())\n",
    "# from torch.utils import collect_env\n",
    "# print(collect_env.main())"
   ]
  },
  {
   "cell_type": "code",
   "execution_count": 4,
   "metadata": {},
   "outputs": [],
   "source": [
    "# install and import the flappy-bird-gym env\n",
    "# pip install flappy-bird-gym"
   ]
  },
  {
   "cell_type": "code",
   "execution_count": 5,
   "metadata": {},
   "outputs": [
    {
     "name": "stdout",
     "output_type": "stream",
     "text": [
      "# Observation Features: 1 \n",
      "\n",
      "# Possible Actions: 2 \n",
      "\n",
      "Initial Observation: \n",
      "\n",
      "[1.65625] \n",
      "\n",
      "Observation array is of type: <class 'numpy.ndarray'>\n"
     ]
    }
   ],
   "source": [
    "env = flappy_bird_gym.make(\"FlappyBird-v0\")\n",
    "state, info = env.reset()\n",
    "\n",
    "# Convert state to 1D numpy array\n",
    "state = np.array(state).flatten()\n",
    "\n",
    "# Print the number of observation features\n",
    "print('# Observation Features:', len(state), '\\n')\n",
    "\n",
    "# Print the number of possible actions\n",
    "print('# Possible Actions:', env.action_space.n, '\\n')\n",
    "\n",
    "# Print the initial observation\n",
    "print('Initial Observation:', '\\n')\n",
    "print(state, '\\n')\n",
    "\n",
    "# Print the type of the observation array\n",
    "print('Observation array is of type:', type(state))\n",
    "\n",
    "env.close()"
   ]
  },
  {
   "attachments": {},
   "cell_type": "markdown",
   "metadata": {},
   "source": [
    "## Define the model class DQN"
   ]
  },
  {
   "cell_type": "code",
   "execution_count": 6,
   "metadata": {},
   "outputs": [],
   "source": [
    "class DQN(nn.Module):\n",
    "\n",
    "    # DEFINE THE SPECIAL INIT METHOD\n",
    "    def __init__(self, features, hidden, output):\n",
    "        super(DQN, self).__init__()\n",
    "        self.linear1 = nn.Linear(features, hidden[0])\n",
    "        self.linear2 = nn.Linear(hidden[0], hidden[1])\n",
    "        self.linear3 = nn.Linear(hidden[1], output)\n",
    "        \n",
    "    # DEFINE THE FORWARD METHOD\n",
    "    def forward(self, x):\n",
    "        out = F.relu(self.linear1(x))\n",
    "        out = F.relu(self.linear2(out))\n",
    "        y_pred = self.linear3(out)\n",
    "        return y_pred"
   ]
  },
  {
   "attachments": {},
   "cell_type": "markdown",
   "metadata": {},
   "source": [
    "## Replay Memory"
   ]
  },
  {
   "cell_type": "code",
   "execution_count": 7,
   "metadata": {},
   "outputs": [],
   "source": [
    "Transition = namedtuple(\n",
    "    'Transition',\n",
    "    ('state', 'action', 'next_state', 'reward')\n",
    "    )\n",
    "\n",
    "\n",
    "class ReplayMemory(object):\n",
    "    \"\"\"\n",
    "    A class to store gym transitions\n",
    "    \"\"\"\n",
    "    def __init__(self, capacity):\n",
    "        self.memory = deque([], maxlen=capacity)\n",
    "\n",
    "    def push(self, *args):\n",
    "        \"\"\"Save a transition\"\"\"\n",
    "        self.memory.append(Transition(*args))\n",
    "\n",
    "    def sample(self, batch_size):\n",
    "        return random.sample(self.memory, batch_size)\n",
    "\n",
    "    def __len__(self):\n",
    "        return len(self.memory)"
   ]
  },
  {
   "attachments": {},
   "cell_type": "markdown",
   "metadata": {},
   "source": [
    "## Function select action"
   ]
  },
  {
   "cell_type": "code",
   "execution_count": 8,
   "metadata": {},
   "outputs": [],
   "source": [
    "def eps_decay(steps_done):\n",
    "    eps_threshold = EPS_END + (EPS_START - EPS_END) * np.exp(-1. * steps_done / EPS_DECAY)\n",
    "    return eps_threshold"
   ]
  },
  {
   "cell_type": "code",
   "execution_count": 9,
   "metadata": {},
   "outputs": [],
   "source": [
    "def select_action(state, eps):\n",
    "\n",
    "    num_actions = 2  # Add this line\n",
    "\n",
    "    with torch.no_grad():\n",
    "        q_values = policy_net(state)\n",
    "        if random.random() > eps:\n",
    "            # Take the action with the highest Q-value\n",
    "            action = q_values.argmax().unsqueeze(0)\n",
    "        else:\n",
    "            # Take a random action\n",
    "            action = torch.tensor([random.randrange(num_actions)], device=device)\n",
    "    return action"
   ]
  },
  {
   "attachments": {},
   "cell_type": "markdown",
   "metadata": {},
   "source": [
    "## Define function to optimize the model"
   ]
  },
  {
   "cell_type": "code",
   "execution_count": 10,
   "metadata": {},
   "outputs": [],
   "source": [
    "def optimize_model():\n",
    "\n",
    "    # CHECK THE LENGTH OF THE REPLAY MEMORY, RETURN NONE IF LENGTH LESS THAN\n",
    "    # THE BATCH_SIZE\n",
    "    if len(memory) < BATCH_SIZE:\n",
    "        return 0\n",
    "    \n",
    "    # SAMPLE N TRANSITIONS FROM THE REPLAY MEMORY, WHERE N IS BATCH_SIZE\n",
    "    transitions = memory.sample(BATCH_SIZE)\n",
    "\n",
    "    # DEFINE THE BATCH AS TRANSITION NAMED TUPLE, THIS SPLITS state's, \n",
    "    # action's, next_state's, and reward's into tuples see the following link\n",
    "    # https://stackoverflow.com/a/19343/3343043\n",
    "    batch = Transition(*zip(*transitions))\n",
    "\n",
    "    # FIND THE INDICES OF TRANSITIONS THAT ARE NON-TERMINAL STATES\n",
    "    non_final_mask = torch.tensor(\n",
    "        tuple(map(lambda s: s is not None, batch.next_state)), \n",
    "        device=device, \n",
    "        dtype=torch.bool\n",
    "        )\n",
    "    \n",
    "    # FIND THAT STATES THAT ARE NON-TERMINAL STATES\n",
    "    non_final_next_states = torch.cat(\n",
    "        [s for s in batch.next_state if s is not None]\n",
    "        )\n",
    "    \n",
    "\n",
    "    ### CREATE 3 TENSORS ONE FOR THE STATES, ACTIONS AND REWARDS\n",
    "    state_batch = torch.cat(batch.state)\n",
    "    action_batch = torch.cat(batch.action).unsqueeze(1)\n",
    "    reward_batch = torch.cat(batch.reward)\n",
    "\n",
    "\n",
    "    # GET THE ACTION VALUES OF POLICY NET FOR EACH ACTION WHICH WAS TAKEN\n",
    "    # HERE YOU SHOULD USE tensor.gather() METHOD SO YOU CAN SPECIFY WHICH \n",
    "    # ACTION WE ARE INTERESTED IN. WE ONLY WANT THE ACTION WHICH WAS TAKEN\n",
    "    # FOR THE TRANSACTION\n",
    "    state_action_values = policy_net(state_batch).gather(1, action_batch)\n",
    "\n",
    "    # CREATE TENSOR OF ZEROS TO STORE THE NEXT STATE VALUES WITH torch.zeros()\n",
    "    next_state_values = torch.zeros(BATCH_SIZE, device=device)\n",
    "    \n",
    "    # DO NOT CALCULATE GRADIENTS\n",
    "    with torch.no_grad():\n",
    "\n",
    "        # DEFINE THE NEXT STATE Q VALUES USING THE TARGET NET - max(Q_target(s', a'))\n",
    "        next_state_values[non_final_mask] = target_net(non_final_next_states).max(1)[0]\n",
    "        \n",
    "    # COMPUTE EXPECTED RETURN Y = Discount*max(Q_target(s',a)) + Reward \n",
    "    expected_state_action_values = (next_state_values * GAMMA) + reward_batch\n",
    "\n",
    "    # DEFINE THE HUBER LOSS\n",
    "    criterion = nn.SmoothL1Loss()\n",
    "\n",
    "    # CALCULATE THE LOSS L(Q_policy(s,a), Y)\n",
    "    loss = criterion(state_action_values, expected_state_action_values.unsqueeze(1))\n",
    "\n",
    "    # ZERO THE GRADIENTS\n",
    "    optimizer.zero_grad()\n",
    "\n",
    "    # PROPAGATE GRADIENT THROUGH NETWORK \n",
    "    loss.backward()\n",
    "\n",
    "    # IN PLACE GRADIENT CLIPPING\n",
    "    torch.nn.utils.clip_grad_value_(policy_net.parameters(), 100)\n",
    "\n",
    "    # TAKE AN OPTIMIZER STEP\n",
    "    optimizer.step()\n",
    "\n",
    "    return 1"
   ]
  },
  {
   "attachments": {},
   "cell_type": "markdown",
   "metadata": {},
   "source": [
    "## Helper functions to show training progess\n",
    "The plot shows moving average of rewards for the 10 most recent episodes"
   ]
  },
  {
   "cell_type": "code",
   "execution_count": 11,
   "metadata": {},
   "outputs": [],
   "source": [
    "episode_durations = []\n",
    "episode_rewards = []\n",
    "\n",
    "def plot_durations(show_result=False):\n",
    "    plt.figure(1)\n",
    "    durations_t = torch.tensor(episode_durations, dtype=torch.float)\n",
    "    if show_result:\n",
    "        plt.title('Result')\n",
    "    else:\n",
    "        plt.clf()\n",
    "        plt.title('Training...')\n",
    "    plt.xlabel('Episode')\n",
    "    plt.ylabel('Duration')\n",
    "    plt.plot(durations_t.numpy())\n",
    "    # Take 100 episode averages and plot them too\n",
    "    if len(durations_t) >= 100:\n",
    "        means = durations_t.unfold(0, 100, 1).mean(1).view(-1)\n",
    "        means = torch.cat((torch.zeros(99), means))\n",
    "        plt.plot(means.numpy())\n",
    "\n",
    "    plt.pause(0.001)  # pause a bit so that plots are updated\n",
    "    if is_ipython:\n",
    "        if not show_result:\n",
    "            display.display(plt.gcf())\n",
    "            display.clear_output(wait=True)\n",
    "        else:\n",
    "            display.display(plt.gcf())\n",
    "\n",
    "\n",
    "def plot_rewards(show_result=False):\n",
    "    # SET THE CURRENT FIGURE\n",
    "    plt.figure(1)\n",
    "\n",
    "    # IF TRAINING IS COMPLETE\n",
    "    if show_result:\n",
    "        plt.title(f'MA10 Result (Episode {i_episode + 1})')\n",
    "    \n",
    "    # IF STILL TRAINING   \n",
    "    else:\n",
    "        plt.clf()\n",
    "        plt.title(f'Training... Eps: {i_episode + 1} Current Reward: {episode_rewards[-1]}')\n",
    "    \n",
    "    # SET LABELS AND PLOT DATA\n",
    "    plt.xlabel('Episode')\n",
    "    plt.ylabel('Average Reward (Last 10 Episodes)')\n",
    "    cumulative_average_rewards = np.convolve(episode_rewards, np.ones(10)/10, mode='valid')\n",
    "    plt.plot(cumulative_average_rewards)\n",
    "    # PAUSE SO THAT PLOTS CAN BE UPDATED\n",
    "    plt.pause(0.001)\n",
    "    if is_ipython:\n",
    "        if not show_result:\n",
    "            display.display(plt.gcf())\n",
    "            # WAIT UNTIL NEW OUTPUT AVAILABLE TO CLEAR CURRENT FIGURE\n",
    "            display.clear_output(wait=True)\n",
    "        else:\n",
    "            display.display(plt.gcf())"
   ]
  },
  {
   "cell_type": "markdown",
   "metadata": {},
   "source": [
    "## Define the model and training parameters\n"
   ]
  },
  {
   "cell_type": "code",
   "execution_count": 12,
   "metadata": {},
   "outputs": [],
   "source": [
    "# Define the environment\n",
    "env = flappy_bird_gym.make(\"FlappyBird-v0\")\n",
    "\n",
    "# Set the device for training\n",
    "device = torch.device(\"cuda\" if torch.cuda.is_available() else \"cpu\")\n",
    "\n",
    "# Define all the scalar constants\n",
    "BATCH_SIZE = 258\n",
    "GAMMA = 0.99\n",
    "EPS_START = 1\n",
    "EPS_END = 0.01\n",
    "EPS_DECAY = 10000\n",
    "TAU = 0.001\n",
    "LR = 0.001\n",
    "HIDDEN = 258\n",
    "MEMORY = 100000\n",
    "\n",
    "# Get the number of actions from the environment\n",
    "n_actions = env.action_space.n\n",
    "\n",
    "# Reset the environment\n",
    "state = env.reset()\n",
    "\n",
    "# Get the number of features in a state\n",
    "n_features = state.shape[0]\n",
    "\n",
    "# Define the policy and target net as instances of the DQN model\n",
    "policy_net = DQN(n_features, [HIDDEN, HIDDEN], n_actions).to(device)\n",
    "target_net = DQN(n_features, [HIDDEN, HIDDEN], n_actions).to(device)\n",
    "\n",
    "# Sync the weights of the target and policy nets\n",
    "target_net.load_state_dict(policy_net.state_dict())\n",
    "\n",
    "# Define the optimizer - use AdamW with amsgrad=True\n",
    "optimizer = torch.optim.AdamW(policy_net.parameters(), lr=LR, amsgrad=True)\n",
    "\n",
    "# Define the replay memory as an instance of ReplayMemory\n",
    "replay_buffer = ReplayMemory(MEMORY)"
   ]
  },
  {
   "cell_type": "code",
   "execution_count": 13,
   "metadata": {},
   "outputs": [
    {
     "name": "stdout",
     "output_type": "stream",
     "text": [
      "The observation:\n",
      "\n",
      "tensor([[1., 2.]], device='cuda:0') \n",
      "\n",
      "The policy net predictions:\n",
      "\n",
      "tensor([[ 0.0879, -0.1055]], device='cuda:0') \n",
      "\n",
      "Action: 0 \n",
      "\n",
      "Using the select action function: \n",
      "\n",
      "Action: tensor([0], device='cuda:0')\n"
     ]
    }
   ],
   "source": [
    "# TEST THE MODEL\n",
    "ini_state = [1.0, 2.0]\n",
    "state = ini_state\n",
    "state_tensor = torch.tensor(state, dtype=torch.float32, device=device).unsqueeze(0)\n",
    "# Define the policy and target net as instances of the updated DQN model\n",
    "policy_net = DQN(n_features, [HIDDEN, HIDDEN], n_actions).to(device)\n",
    "target_net = DQN(n_features, [HIDDEN, HIDDEN], n_actions).to(device)\n",
    "\n",
    "# Sync the weights of the target and policy nets\n",
    "target_net.load_state_dict(policy_net.state_dict())\n",
    "\n",
    "print('The observation:\\n')\n",
    "print(state_tensor.to(device), '\\n')\n",
    "\n",
    "print('The policy net predictions:\\n')\n",
    "with torch.no_grad():\n",
    "    q_values = policy_net(state_tensor.to(device))\n",
    "    print(q_values, '\\n')\n",
    "    action = q_values.argmax().item()\n",
    "    print('Action:', action, '\\n')\n",
    "\n",
    "print('Using the select action function:', '\\n')\n",
    "action = select_action(state_tensor.to(device), eps=0)\n",
    "print('Action:', action)"
   ]
  },
  {
   "attachments": {},
   "cell_type": "markdown",
   "metadata": {},
   "source": [
    "## Define Training Loop"
   ]
  },
  {
   "cell_type": "code",
   "execution_count": 14,
   "metadata": {},
   "outputs": [
    {
     "name": "stdout",
     "output_type": "stream",
     "text": [
      "Complete\n"
     ]
    },
    {
     "data": {
      "image/png": "[encoded data removed]",
      "text/plain": [
       "<Figure size 640x480 with 1 Axes>"
      ]
     },
     "metadata": {},
     "output_type": "display_data"
    },
    {
     "data": {
      "text/plain": [
       "<Figure size 640x480 with 0 Axes>"
      ]
     },
     "metadata": {},
     "output_type": "display_data"
    },
    {
     "data": {
      "text/plain": [
       "<Figure size 640x480 with 0 Axes>"
      ]
     },
     "metadata": {},
     "output_type": "display_data"
    }
   ],
   "source": [
    "# CHECK IF CUDA IS AVAILABLE\n",
    "device = torch.device(\"cuda\" if torch.cuda.is_available() else \"cpu\")\n",
    "\n",
    "# DATA STRUCTURES TO STORE RELEVANT DATA FOR FUTURE PLOTS\n",
    "episode_durations = []\n",
    "episode_rewards = []\n",
    "total_transitions = 0\n",
    "start_time = time.time()\n",
    "num_episodes = 10000\n",
    "memory = ReplayMemory(MEMORY)\n",
    "\n",
    "# PERFORM SET NUMBER OF EPISODES\n",
    "for i_episode in range(num_episodes):\n",
    "\n",
    "    # START THE ENVIRONMENT AND OBSERVE THE STATE\n",
    "    state = env.reset()\n",
    "\n",
    "    # CONVERT THE 8 ELEMENT ARRAY TO TORCH TENSOR AND MOVE TO DEVICE\n",
    "    state = torch.tensor(state, dtype=torch.float32, device=device).unsqueeze(0)\n",
    "    cum_reward = 0\n",
    "    \n",
    "    # FOR EVERY TRANSITION IN THE EPISODE (ITERATES UNTIL TERMINAL STATE)\n",
    "    for t in count():\n",
    "        \n",
    "        # UPDATE TOTAL TRANSITIONS COUNTER\n",
    "        total_transitions += 1\n",
    "\n",
    "        # CALCULATE EPS USING TOTAL TRANSITIONS\n",
    "        eps = eps_decay(total_transitions)\n",
    "\n",
    "        # SELECT AN ACTION USING THE TARGET NETWORK - select_action() FUNCTION\n",
    "        action = select_action(state, eps=eps)\n",
    "\n",
    "        # OBSERVE THE TRANSITION\n",
    "        observation, reward, done, _ = env.step(action.item())\n",
    "        cum_reward += reward\n",
    "        reward = torch.tensor([reward], device=device)\n",
    "\n",
    "        # DEFINE THE NEXT STATE OF THE ENVIRONMENT\n",
    "        if done:\n",
    "            next_state = None\n",
    "        else:\n",
    "            next_state = torch.tensor(observation, dtype=torch.float32, device=device).unsqueeze(0)\n",
    "\n",
    "        # PUSH THE TRANSITION INTO THE REPLAY MEMORY\n",
    "        memory.push(state, action, next_state, reward)\n",
    "\n",
    "        # STORE THE NEXT STATE AS CURRENT STATE FOR NEXT ITERATION\n",
    "        state = next_state\n",
    "\n",
    "        # OPTIMIZE THE MODEL (UPDATE THE WEIGHTS OF THE POLICY NET)\n",
    "        optimize_model()\n",
    "\n",
    "        # GET THE CURRENT WEIGHTS OF EACH NETWORK\n",
    "        target_net_state_dict = target_net.state_dict()\n",
    "        policy_net_state_dict = policy_net.state_dict()\n",
    "\n",
    "        # CALCULATE SOFT UPDATE OF TARGET NET WEIGHTS\n",
    "        # θ′ ← τ θ + (1 −τ )θ′\n",
    "        for key in policy_net_state_dict:\n",
    "            # MOVE THE POLICY_NET_STATE_DICT TENSOR TO THE CPU DEVICE\n",
    "            policy_net_state_dict[key] = policy_net_state_dict[key].to(device)\n",
    "            target_net_state_dict[key] = policy_net_state_dict[key]*TAU + target_net_state_dict[key]*(1-TAU)\n",
    "            target_net_state_dict[key] = target_net_state_dict[key].to(device)\n",
    "\n",
    "        # APPLY THE UPDATE TO THE TARGET NETWORK\n",
    "        target_net.load_state_dict(target_net_state_dict)\n",
    "\n",
    "\n",
    "        # IF THE EPISODE IS COMPLETE BREAK INNER LOOP\n",
    "        if done:\n",
    "            episode_durations.append(t + 1)\n",
    "            episode_rewards.append(cum_reward)\n",
    "            # plot_durations()\n",
    "            plot_rewards()\n",
    "            break\n",
    "\n",
    "print('Complete')\n",
    "end_time = time.time()\n",
    "plot_rewards(show_result=True)\n",
    "plt.ioff()\n",
    "plt.show()"
   ]
  },
  {
   "cell_type": "code",
   "execution_count": 15,
   "metadata": {},
   "outputs": [
    {
     "name": "stdout",
     "output_type": "stream",
     "text": [
      "7656.7445821762085\n"
     ]
    }
   ],
   "source": [
    "print(end_time - start_time)"
   ]
  },
  {
   "attachments": {},
   "cell_type": "markdown",
   "metadata": {},
   "source": [
    "## Save and Check The Results"
   ]
  },
  {
   "cell_type": "code",
   "execution_count": 16,
   "metadata": {},
   "outputs": [],
   "source": [
    "path = Path('./models/flappy_bird_dqn_linear_1.pth')\n",
    "torch.save(policy_net, './models/flappy_bird_dqn_linear_1.pth')"
   ]
  },
  {
   "cell_type": "code",
   "execution_count": 17,
   "metadata": {},
   "outputs": [
    {
     "name": "stdout",
     "output_type": "stream",
     "text": [
      "Episode 1: Cumulative Reward = 101\n",
      "Episode 2: Cumulative Reward = 101\n",
      "Episode 3: Cumulative Reward = 82\n",
      "Episode 4: Cumulative Reward = 101\n",
      "Episode 5: Cumulative Reward = 101\n",
      "Episode 6: Cumulative Reward = 101\n",
      "Episode 7: Cumulative Reward = 85\n",
      "Episode 8: Cumulative Reward = 101\n",
      "Episode 9: Cumulative Reward = 101\n",
      "Episode 10: Cumulative Reward = 101\n",
      "Episode 11: Cumulative Reward = 101\n",
      "Episode 12: Cumulative Reward = 101\n",
      "Episode 13: Cumulative Reward = 101\n",
      "Episode 14: Cumulative Reward = 101\n",
      "Episode 15: Cumulative Reward = 101\n",
      "Episode 16: Cumulative Reward = 101\n",
      "Episode 17: Cumulative Reward = 101\n",
      "Episode 18: Cumulative Reward = 101\n",
      "Episode 19: Cumulative Reward = 101\n",
      "Episode 20: Cumulative Reward = 101\n",
      "Average Reward over 20 Episodes = 99.25\n"
     ]
    }
   ],
   "source": [
    "# Set up the Flappy Bird environment\n",
    "env = flappy_bird_gym.make(\"FlappyBird-v0\")\n",
    "\n",
    "# Set up the DQN policy network\n",
    "input_dim = 2  # Replace with the actual input dimensions for your environment\n",
    "output_dim = env.action_space.n\n",
    "hidden_dim = 64\n",
    "\n",
    "# Play the game using the trained policy network for 20 episodes\n",
    "num_episodes = 20\n",
    "episode_rewards = []\n",
    "\n",
    "for i_episode in range(num_episodes):\n",
    "    state = env.reset()\n",
    "    cum_reward = 0\n",
    "\n",
    "    while True:\n",
    "        state = torch.tensor(state, dtype=torch.float32, device=device).unsqueeze(0)\n",
    "        q_values = policy_net(state)\n",
    "        action = q_values.argmax(dim=1).item()\n",
    "        state, reward, done, _ = env.step(action)\n",
    "        cum_reward += reward\n",
    "\n",
    "        if done:\n",
    "            episode_rewards.append(cum_reward)\n",
    "            print(\"Episode {}: Cumulative Reward = {}\".format(i_episode+1, cum_reward))\n",
    "            break\n",
    "\n",
    "# Print the average rewards over 20 episodes\n",
    "avg_reward = sum(episode_rewards) / len(episode_rewards)\n",
    "print(\"Average Reward over 20 Episodes = {:.2f}\".format(avg_reward))"
   ]
  },
  {
   "cell_type": "code",
   "execution_count": 18,
   "metadata": {},
   "outputs": [],
   "source": [
    "# Load the model\n",
    "#policy_net = torch.load('./models/flappy_bird_dqn_linear_1.pth')"
   ]
  },
  {
   "attachments": {},
   "cell_type": "markdown",
   "metadata": {},
   "source": [
    "## Improve the DQN network"
   ]
  },
  {
   "cell_type": "code",
   "execution_count": 23,
   "metadata": {},
   "outputs": [],
   "source": [
    "# 创建一个多层CNN网络，该网络接收的输入为4帧画面，输出为每个可能动作对应的Q函数值\n",
    "class newDQN(nn.Module):\n",
    "    def __init__(self):\n",
    "        super(newDQN, self).__init__()\n",
    "        # 第一层卷积，从4通道到32通道，窗口大小8，跳跃间隔4，填空白2\n",
    "        self.conv1 = nn.Conv2d(4, 32, 8, 4, padding = 2)\n",
    "        # Pooling层，窗口2*2\n",
    "        self.pool = nn.MaxPool2d(2, 2)\n",
    "        # 第二层卷积，从32通道到64通道，窗口大小4，跳跃间隔2，填空白1\n",
    "        self.conv2 = nn.Conv2d(32, 64, 4, 2, padding = 1)\n",
    "        # 第二个Pooling层，窗口2＊2，空白1\n",
    "        #self.pool2 = nn.MaxPool2d(2, 2, padding = 1)\n",
    "        # 第三层卷积层，输入输出通道都是64，填空白为1\n",
    "        self.conv3 = nn.Conv2d(64, 64, 3, 1, padding = 1)\n",
    "        \n",
    "        # 最后有两层全链接层\n",
    "        self.fc_sz = 1600\n",
    "        self.fc1 = nn.Linear(self.fc_sz, 256)\n",
    "        self.fc2 = nn.Linear(256, ACTIONS)\n",
    "\n",
    "    def forward(self, x):\n",
    "        # 输入为一个batch的数据，每一个为前后相连的4张图像，每个图像为80*80的大小\n",
    "        # x的尺寸为：batch_size, 4, 80, 80\n",
    "        x = self.conv1(x)\n",
    "        # x的尺寸为：batch_size, 32, 20, 20\n",
    "        x = F.relu(x)\n",
    "        x = self.pool(x)\n",
    "        # x的尺寸为：batch_size, 32, 10, 10\n",
    "        x = F.relu(self.conv2(x))\n",
    "        # x的尺寸为：batch_size, 64, 5, 5\n",
    "        #x = self.pool2(x)\n",
    "        x = F.relu(self.conv3(x))\n",
    "        # x的尺寸为：batch_size, 64, 5, 5\n",
    "        #x = self.pool2(x)\n",
    "        # 将x设为1600维的向量, batch_size, 1600\n",
    "        x = x.view(-1, self.fc_sz)\n",
    "        x = F.relu(self.fc1(x))\n",
    "        readout = self.fc2(x)\n",
    "        return readout, x\n",
    "    def init(self):\n",
    "        # 初始化所有的网络权重\n",
    "        self.conv1.weight.data =  torch.abs(0.01 * torch.randn(self.conv1.weight.size()))\n",
    "        self.conv2.weight.data =  torch.abs(0.01 * torch.randn(self.conv2.weight.size()))\n",
    "        self.conv3.weight.data =  torch.abs(0.01 * torch.randn(self.conv3.weight.size()))\n",
    "        self.fc1.weight.data = torch.abs(0.01 * torch.randn(self.fc1.weight.size()))\n",
    "        self.fc2.weight.data = torch.abs(0.01 * torch.randn(self.fc2.weight.size()))\n",
    "        self.conv1.bias.data = torch.ones(self.conv1.bias.size()) * 0.01\n",
    "        self.conv2.bias.data = torch.ones(self.conv2.bias.size()) * 0.01\n",
    "        self.conv3.bias.data = torch.ones(self.conv3.bias.size()) * 0.01\n",
    "        self.fc1.bias.data = torch.ones(self.fc1.bias.size()) * 0.01\n",
    "        self.fc2.bias.data = torch.ones(self.fc2.bias.size()) * 0.01"
   ]
  },
  {
   "cell_type": "code",
   "execution_count": 25,
   "metadata": {},
   "outputs": [],
   "source": [
    "ACTIONS = 2 # 有效输出动作的个数\n",
    "GAMMA = 0.99 # 强化学习中未来的折扣系数\n",
    "OBSERVE = 10000. # 训练之前的时间步，需要先观察10000帧\n",
    "EXPLORE = 3000000. # 退火所需的时间步，所谓的退火就是指随机选择率epsilon逐渐变小\n",
    "FINAL_EPSILON = 0.0001 # epsilon的最终值\n",
    "INITIAL_EPSILON = 0.1 # epsilon的初始值\n",
    "REPLAY_MEMORY = 50000 # 最多记忆多少帧训练数据\n",
    "BATCH = 32 # 每一个批次的数据记录条数\n",
    "FRAME_PER_ACTION = 1 # 每间隔多少时间完成一次有效动作的输出"
   ]
  },
  {
   "cell_type": "code",
   "execution_count": 26,
   "metadata": {},
   "outputs": [
    {
     "name": "stdout",
     "output_type": "stream",
     "text": [
      "True\n"
     ]
    },
    {
     "ename": "TypeError",
     "evalue": "cuda() missing 1 required positional argument: 'self'",
     "output_type": "error",
     "traceback": [
      "\u001b[1;31m---------------------------------------------------------------------------\u001b[0m",
      "\u001b[1;31mTypeError\u001b[0m                                 Traceback (most recent call last)",
      "Cell \u001b[1;32mIn[26], line 9\u001b[0m\n\u001b[0;32m      7\u001b[0m net\u001b[39m.\u001b[39minit()\n\u001b[0;32m      8\u001b[0m \u001b[39m# 如果有GPU，就把神经网络全部搬到GPU内存中做运算\u001b[39;00m\n\u001b[1;32m----> 9\u001b[0m net \u001b[39m=\u001b[39m newDQN\u001b[39m.\u001b[39;49mcuda() \u001b[39mif\u001b[39;00m use_cuda \u001b[39melse\u001b[39;00m net\n\u001b[0;32m     11\u001b[0m \u001b[39m#net = torch.load('final_model.mdl').cuda()\u001b[39;00m\n\u001b[0;32m     12\u001b[0m \u001b[39m# 定义损失函数为MSE\u001b[39;00m\n\u001b[0;32m     13\u001b[0m criterion \u001b[39m=\u001b[39m nn\u001b[39m.\u001b[39mMSELoss()\u001b[39m.\u001b[39mcuda() \u001b[39mif\u001b[39;00m use_cuda \u001b[39melse\u001b[39;00m nn\u001b[39m.\u001b[39mMSELoss()\n",
      "\u001b[1;31mTypeError\u001b[0m: cuda() missing 1 required positional argument: 'self'"
     ]
    }
   ],
   "source": [
    "# 开始在内存／GPU上定义一个网络\n",
    "use_cuda = torch.cuda.is_available() #检测本台机器中是否有GPU\n",
    "print(use_cuda)\n",
    "# 创建一个神经网络\n",
    "net = newDQN()\n",
    "# 初始化网络权重。之所以自定义初始化过程是为了增加神经网络权重的多样性\n",
    "net.init()\n",
    "# 如果有GPU，就把神经网络全部搬到GPU内存中做运算\n",
    "net = newDQN.cuda() if use_cuda else net\n",
    "\n",
    "#net = torch.load('final_model.mdl').cuda()\n",
    "# 定义损失函数为MSE\n",
    "criterion = nn.MSELoss().cuda() if use_cuda else nn.MSELoss()\n",
    "# 定义优化器，并设置初始学习率维10^-6\n",
    "optimizer = torch.optim.Adam(net.parameters(), lr=1e-6 )\n",
    "\n",
    "# 开启一个游戏进程，开始与游戏引擎通话\n",
    "game_state = GameState()\n",
    "\n",
    "# 学习样本的存储区域deque是一个类似于list的存储容器\n",
    "D = deque()\n",
    "\n",
    "# 状态打印log记录位置\n",
    "#a_file = open(\"logs_\" + GAME + \"/readout.txt\", 'w')\n",
    "#h_file = open(\"logs_\" + GAME + \"/hidden.txt\", 'w')\n",
    "\n",
    "# 将游戏设置为初始状态，并获得一个80*80的游戏湖面\n",
    "do_nothing = np.zeros(ACTIONS)\n",
    "do_nothing[0] = 1\n",
    "x_t, r_0, terminal = game_state.frame_step(do_nothing)\n",
    "x_t = cv2.cvtColor(cv2.resize(x_t, (80, 80)), cv2.COLOR_BGR2GRAY)#转化为灰度图\n",
    "ret, x_t = cv2.threshold(x_t,1,255,cv2.THRESH_BINARY) #ret用来占位\n",
    "\n",
    "# 将初始的游戏画面叠加成4张作为神经网络的初始输入状态s_t\n",
    "s_t = np.stack((x_t, x_t, x_t, x_t), axis=0) #堆叠成80*80*4的结构\n",
    "\n",
    "# 设置初始的epsilon（采取随机行动的概率），并准备训练\n",
    "epsilon = INITIAL_EPSILON\n",
    "t = 0"
   ]
  }
 ],
 "metadata": {
  "kernelspec": {
   "display_name": "venv",
   "language": "python",
   "name": "python3"
  },
  "language_info": {
   "codemirror_mode": {
    "name": "ipython",
    "version": 3
   },
   "file_extension": ".py",
   "mimetype": "text/x-python",
   "name": "python",
   "nbconvert_exporter": "python",
   "pygments_lexer": "ipython3",
   "version": "3.9.16"
  },
  "orig_nbformat": 4
 },
 "nbformat": 4,
 "nbformat_minor": 2
}
